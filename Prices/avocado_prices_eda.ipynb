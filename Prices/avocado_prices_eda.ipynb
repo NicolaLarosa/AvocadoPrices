{
 "cells": [
  {
   "cell_type": "code",
   "execution_count": 1,
   "metadata": {},
   "outputs": [],
   "source": [
    "import pandas as pd"
   ]
  },
  {
   "cell_type": "code",
   "execution_count": 2,
   "metadata": {},
   "outputs": [],
   "source": [
    "import numpy as np"
   ]
  },
  {
   "cell_type": "code",
   "execution_count": 27,
   "metadata": {},
   "outputs": [],
   "source": [
    "import matplotlib.pyplot as plt"
   ]
  },
  {
   "cell_type": "code",
   "execution_count": 3,
   "metadata": {},
   "outputs": [],
   "source": [
    "# getting avocado prices as data frame"
   ]
  },
  {
   "cell_type": "code",
   "execution_count": 4,
   "metadata": {},
   "outputs": [],
   "source": [
    "ap = pd.read_csv('avocado_prices.csv')"
   ]
  },
  {
   "cell_type": "code",
   "execution_count": 5,
   "metadata": {},
   "outputs": [],
   "source": [
    "# 1. convert data to proper format"
   ]
  },
  {
   "cell_type": "code",
   "execution_count": 6,
   "metadata": {},
   "outputs": [],
   "source": [
    "# convert date field to datetime"
   ]
  },
  {
   "cell_type": "code",
   "execution_count": 7,
   "metadata": {},
   "outputs": [],
   "source": [
    "ap['date'] = pd.to_datetime(ap['date'])"
   ]
  },
  {
   "cell_type": "code",
   "execution_count": 8,
   "metadata": {},
   "outputs": [],
   "source": [
    "# 2. Extract month and day from date column, adding two new columns"
   ]
  },
  {
   "cell_type": "code",
   "execution_count": 9,
   "metadata": {},
   "outputs": [],
   "source": [
    "# Getting the month"
   ]
  },
  {
   "cell_type": "code",
   "execution_count": 10,
   "metadata": {},
   "outputs": [],
   "source": [
    "ap['month'] = ap['date'].dt.month"
   ]
  },
  {
   "cell_type": "code",
   "execution_count": 11,
   "metadata": {},
   "outputs": [],
   "source": [
    "# Getting the day"
   ]
  },
  {
   "cell_type": "code",
   "execution_count": 12,
   "metadata": {},
   "outputs": [],
   "source": [
    "ap['day'] = ap['date'].dt.day"
   ]
  },
  {
   "cell_type": "code",
   "execution_count": 13,
   "metadata": {},
   "outputs": [],
   "source": [
    "# rename the following columns label: [plu_4046, plu_4225, plu_4770] in [plu_small,plu_large,plu_xlarge] "
   ]
  },
  {
   "cell_type": "code",
   "execution_count": 14,
   "metadata": {},
   "outputs": [],
   "source": [
    "ap.rename(columns={'plu_4046'  : 'plu_small',\n",
    "                   'plu_4225'  : 'plu_large',\n",
    "                   'plu_4770'  : 'plu_xlarge'}, \n",
    "                 inplace=True)"
   ]
  },
  {
   "cell_type": "code",
   "execution_count": 15,
   "metadata": {},
   "outputs": [],
   "source": [
    "# 4. Add a calendar quarter column based on the month coumn\n",
    "# Rule: \n",
    "#     q1 : [1,2,3]\n",
    "#     q2 : [4,5,6]\n",
    "#     q3 : [7,8,9]\n",
    "#     q4 : [10,11,12]"
   ]
  },
  {
   "cell_type": "code",
   "execution_count": 16,
   "metadata": {},
   "outputs": [],
   "source": [
    "ap['quarter'] = np.where(ap['month'].between(1, 3, inclusive=True),           'Q1'\n",
    "                         ,np.where(ap['month'].between(4,6, inclusive=True),  'Q2'\n",
    "                         ,np.where(ap['month'].between(7,9, inclusive=True),  'Q3'\n",
    "                         ,np.where(ap['month'].between(10,12, inclusive=True),'Q4','TBD'))))"
   ]
  },
  {
   "cell_type": "code",
   "execution_count": 17,
   "metadata": {},
   "outputs": [],
   "source": [
    "# 5.  Adding a new currency column (set to USD)"
   ]
  },
  {
   "cell_type": "code",
   "execution_count": 18,
   "metadata": {},
   "outputs": [],
   "source": [
    "ap['currency'] = 'USD'"
   ]
  },
  {
   "cell_type": "code",
   "execution_count": 19,
   "metadata": {},
   "outputs": [],
   "source": [
    "# reordering columns manually"
   ]
  },
  {
   "cell_type": "code",
   "execution_count": null,
   "metadata": {},
   "outputs": [],
   "source": [
    "# 6. Adding a revenue column average_price * total_volume"
   ]
  },
  {
   "cell_type": "code",
   "execution_count": 22,
   "metadata": {},
   "outputs": [],
   "source": [
    "ap['revenue'] = ap['average_price'] * ap['total_volume']"
   ]
  },
  {
   "cell_type": "code",
   "execution_count": 24,
   "metadata": {},
   "outputs": [],
   "source": [
    "column_names = [\n",
    "\"index\"\n",
    ",\"date\"\n",
    ",\"year\"\n",
    ",\"month\"\n",
    ",\"day\"\n",
    ",\"quarter\"\n",
    ",\"average_price\"\n",
    ",\"total_volume\"\n",
    ",\"currency\"\n",
    ",\"revenue\"\n",
    ",\"plu_small\"\n",
    ",\"plu_large\"\n",
    ",\"plu_xlarge\"\n",
    ",\"total_bags\"\n",
    ",\"small_bags\"\n",
    ",\"large_bags\"\n",
    ",\"xlarge_bags\"\n",
    ",\"type\"\n",
    ",\"region\"\n",
    "]\n",
    "\n",
    "ap = ap.reindex(columns=column_names)"
   ]
  },
  {
   "cell_type": "code",
   "execution_count": null,
   "metadata": {},
   "outputs": [],
   "source": [
    "# 7. revenue vs quarter (comparing revenues between the quarters, using matplotlib)"
   ]
  },
  {
   "cell_type": "code",
   "execution_count": null,
   "metadata": {},
   "outputs": [],
   "source": [
    "# group by quarter aggregating revenue"
   ]
  },
  {
   "cell_type": "code",
   "execution_count": 33,
   "metadata": {},
   "outputs": [],
   "source": [
    "ap_r_q = ap.groupby('quarter', as_index=False).agg({\"revenue\": \"sum\"})"
   ]
  },
  {
   "cell_type": "code",
   "execution_count": null,
   "metadata": {},
   "outputs": [],
   "source": [
    "# plotting a matplotlib barchart "
   ]
  },
  {
   "cell_type": "code",
   "execution_count": 42,
   "metadata": {},
   "outputs": [
    {
     "data": {
      "image/png": "[encoded data removed]",
      "text/plain": [
       "<Figure size 432x288 with 1 Axes>"
      ]
     },
     "metadata": {
      "needs_background": "light"
     },
     "output_type": "display_data"
    }
   ],
   "source": [
    "plt.bar(ap_r_q['quarter'], ap_r_q['revenue'], align='center', color = 'b')\n",
    "plt.xlabel('Quarter')\n",
    "plt.ylabel('Revenue')\n",
    "plt.title('Revenue sum per Quarter')\n",
    "plt.show()"
   ]
  },
  {
   "cell_type": "code",
   "execution_count": null,
   "metadata": {},
   "outputs": [],
   "source": [
    "# Plotting an horizontal bar chart"
   ]
  },
  {
   "cell_type": "code",
   "execution_count": 45,
   "metadata": {},
   "outputs": [
    {
     "data": {
      "image/png": "[encoded data removed]",
      "text/plain": [
       "<Figure size 432x288 with 1 Axes>"
      ]
     },
     "metadata": {
      "needs_background": "light"
     },
     "output_type": "display_data"
    }
   ],
   "source": [
    "plt.barh(ap_r_q['quarter'], ap_r_q['revenue'], align='center', color = 'g')\n",
    "plt.xlabel('Revenue')\n",
    "plt.ylabel('Quarter')\n",
    "plt.title('Revenue sum per Quarter')\n",
    "plt.show()"
   ]
  },
  {
   "cell_type": "code",
   "execution_count": null,
   "metadata": {},
   "outputs": [],
   "source": [
    "# Plotting more than one metric in the same barchart"
   ]
  },
  {
   "cell_type": "code",
   "execution_count": 50,
   "metadata": {},
   "outputs": [],
   "source": [
    "ap_r_q_2 = ap.groupby('quarter', as_index=False).agg({\"revenue\": \"sum\",\"total_volume\" : \"sum\"})\n",
    "#,\"plu_small\"\n",
    "#,\"plu_large\"\n",
    "#,\"plu_xlarge\" "
   ]
  },
  {
   "cell_type": "code",
   "execution_count": 65,
   "metadata": {},
   "outputs": [
    {
     "data": {
      "image/png": "[encoded data removed]",
      "text/plain": [
       "<Figure size 432x288 with 1 Axes>"
      ]
     },
     "metadata": {
      "needs_background": "light"
     },
     "output_type": "display_data"
    }
   ],
   "source": [
    "n_groups = 4\n",
    "\n",
    "index = np.arange(n_groups)\n",
    "\n",
    "rects1 = plt.bar(index, ap_r_q_2['revenue'],0.35, color = 'g', label = 'Revenue')\n",
    "\n",
    "rects2 = plt.bar(index + 0.35, ap_r_q_2['total_volume'], 0.35, color = 'r',label = 'Total vol')\n",
    "\n",
    "plt.xlabel('Quarter')\n",
    "plt.ylabel('Revenue and Total volume')\n",
    "plt.title('Revenue and Total volume per Quarter')\n",
    "plt.xticks(index + 0.35, ('Q1', 'Q2', 'Q3', 'Q4'))\n",
    "plt.legend()\n",
    "\n",
    "plt.show()"
   ]
  },
  {
   "cell_type": "code",
   "execution_count": null,
   "metadata": {},
   "outputs": [],
   "source": [
    "# which avocado PLU type has been sold the most per quarter"
   ]
  },
  {
   "cell_type": "code",
   "execution_count": 66,
   "metadata": {},
   "outputs": [],
   "source": [
    "ap_r_q_3 = ap.groupby('quarter', as_index=False).agg({\"plu_small\": \"sum\",\"plu_large\" : \"sum\", \"plu_xlarge\" : \"sum\"})"
   ]
  },
  {
   "cell_type": "code",
   "execution_count": 88,
   "metadata": {},
   "outputs": [
    {
     "data": {
      "image/png": "[encoded data removed]",
      "text/plain": [
       "<Figure size 432x288 with 1 Axes>"
      ]
     },
     "metadata": {
      "needs_background": "light"
     },
     "output_type": "display_data"
    }
   ],
   "source": [
    "n_groups = 4\n",
    "\n",
    "index = np.arange(n_groups)\n",
    "\n",
    "rects1 = plt.bar(index +0.10, ap_r_q_3['plu_small'],0.25, color = 'g', label = 'Small')\n",
    "\n",
    "rects2 = plt.bar(index + 0.35, ap_r_q_3['plu_large'], 0.25, color = 'r',label = 'Large')\n",
    "\n",
    "rects3 = plt.bar(index + 0.60, ap_r_q_3['plu_xlarge'], 0.25, color = 'b',label = 'Xlarge')\n",
    "\n",
    "plt.xlabel('Quarter')\n",
    "plt.ylabel('Sum of PLU: small, large, xlarge')\n",
    "plt.title('# PLU sold per Quarter')\n",
    "plt.xticks(index + 0.35, ('Q1', 'Q2', 'Q3', 'Q4'))\n",
    "plt.legend()\n",
    "\n",
    "plt.show()"
   ]
  },
  {
   "cell_type": "code",
   "execution_count": null,
   "metadata": {},
   "outputs": [],
   "source": [
    "# which avocado PLU type has been sold the most per month"
   ]
  },
  {
   "cell_type": "code",
   "execution_count": 92,
   "metadata": {},
   "outputs": [],
   "source": [
    "ap_r_q_4 = ap.groupby('month', as_index=False).agg({\"plu_small\": \"sum\",\"plu_large\" : \"sum\", \"plu_xlarge\" : \"sum\"})"
   ]
  },
  {
   "cell_type": "code",
   "execution_count": 94,
   "metadata": {},
   "outputs": [
    {
     "data": {
      "image/png": "[encoded data removed]",
      "text/plain": [
       "<Figure size 432x288 with 1 Axes>"
      ]
     },
     "metadata": {
      "needs_background": "light"
     },
     "output_type": "display_data"
    }
   ],
   "source": [
    "n_groups = 12\n",
    "\n",
    "index = np.arange(n_groups)\n",
    "\n",
    "rects1 = plt.bar(index +0.10, ap_r_q_4['plu_small'],0.25, color = 'g', label = 'Small')\n",
    "\n",
    "rects2 = plt.bar(index + 0.35, ap_r_q_4['plu_large'], 0.25, color = 'r',label = 'Large')\n",
    "\n",
    "rects3 = plt.bar(index + 0.60, ap_r_q_4['plu_xlarge'], 0.25, color = 'b',label = 'Xlarge')\n",
    "\n",
    "plt.xlabel('Quarter')\n",
    "plt.ylabel('Sum of PLU: small, large, xlarge')\n",
    "plt.title('# PLU sold per Quarter')\n",
    "plt.xticks(index + 0.35, ('jan','feb','mar','apr','may','jun','jul','aug','sep','oct','nov','dec'))\n",
    "plt.legend()\n",
    "\n",
    "plt.show()"
   ]
  },
  {
   "cell_type": "code",
   "execution_count": null,
   "metadata": {},
   "outputs": [],
   "source": []
  }
 ],
 "metadata": {
  "kernelspec": {
   "display_name": "Python 3",
   "language": "python",
   "name": "python3"
  },
  "language_info": {
   "codemirror_mode": {
    "name": "ipython",
    "version": 3
   },
   "file_extension": ".py",
   "mimetype": "text/x-python",
   "name": "python",
   "nbconvert_exporter": "python",
   "pygments_lexer": "ipython3",
   "version": "3.7.1"
  }
 },
 "nbformat": 4,
 "nbformat_minor": 2
}
